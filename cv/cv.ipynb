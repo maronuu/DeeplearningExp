{
  "nbformat": 4,
  "nbformat_minor": 0,
  "metadata": {
    "colab": {
      "provenance": []
    },
    "kernelspec": {
      "name": "python3",
      "display_name": "Python 3"
    },
    "language_info": {
      "name": "python"
    },
    "accelerator": "GPU",
    "gpuClass": "standard"
  },
  "cells": [
    {
      "cell_type": "code",
      "execution_count": 2,
      "metadata": {
        "colab": {
          "base_uri": "https://localhost:8080/"
        },
        "id": "QLZtqSb05jDF",
        "outputId": "7815c719-f2ce-4100-97b6-fd371e8534aa"
      },
      "outputs": [
        {
          "output_type": "stream",
          "name": "stdout",
          "text": [
            "GPU: 0\n",
            "# unit: 1000\n",
            "# Minibatch-size: 100\n",
            "# epoch: 20\n",
            "\n",
            "[epoch 1] loss: 1029.508\n",
            "[epoch 2] loss: 403.398\n",
            "[epoch 3] loss: 249.669\n",
            "[epoch 4] loss: 207.465\n",
            "[epoch 5] loss: 187.162\n",
            "[epoch 6] loss: 173.871\n",
            "[epoch 7] loss: 164.199\n",
            "[epoch 8] loss: 156.105\n",
            "[epoch 9] loss: 148.846\n",
            "[epoch 10] loss: 142.414\n",
            "[epoch 11] loss: 136.287\n",
            "[epoch 12] loss: 130.713\n",
            "[epoch 13] loss: 125.662\n",
            "[epoch 14] loss: 120.649\n",
            "[epoch 15] loss: 116.031\n",
            "[epoch 16] loss: 111.738\n",
            "[epoch 17] loss: 107.579\n",
            "[epoch 18] loss: 103.759\n",
            "[epoch 19] loss: 100.165\n",
            "[epoch 20] loss: 96.674\n",
            "Finished Training\n"
          ]
        }
      ],
      "source": [
        "!python train_mnist_mlp.py -g 0"
      ]
    },
    {
      "cell_type": "code",
      "source": [
        "!ls"
      ],
      "metadata": {
        "colab": {
          "base_uri": "https://localhost:8080/"
        },
        "id": "Q_QPOE5J8b6j",
        "outputId": "5006e54f-cf3d-4805-ae96-44fa643acc50"
      },
      "execution_count": 4,
      "outputs": [
        {
          "output_type": "stream",
          "name": "stdout",
          "text": [
            "create_db.py  image.png      run_python_code.ipynb  train_cifar10.py\n",
            "data\t      network_db.py  sample_data\t    train_mnist_cnn.py\n",
            "dataset.py    network.py     search.py\t\t    train_mnist_mlp.py\n",
            "drive\t      __pycache__    test_cifar10.py\n",
            "for_test.png  result\t     test_mnist_mlp.py\n"
          ]
        }
      ]
    },
    {
      "cell_type": "code",
      "source": [
        "!python test_mnist_mlp.py -g 0 -i for_test.png -m result/model_20"
      ],
      "metadata": {
        "colab": {
          "base_uri": "https://localhost:8080/"
        },
        "id": "GhEwban_5pjk",
        "outputId": "735edb9c-3b20-4bb0-ffe6-c8326bacd903"
      },
      "execution_count": 8,
      "outputs": [
        {
          "output_type": "stream",
          "name": "stdout",
          "text": [
            "GPU: 0\n",
            "\n",
            "Predicted label : 4\n"
          ]
        }
      ]
    },
    {
      "cell_type": "code",
      "source": [
        "!python test_mnist_mlp.py -g 0 -i for_test.png -m result/model_20"
      ],
      "metadata": {
        "colab": {
          "base_uri": "https://localhost:8080/"
        },
        "id": "vxv-Finu8h8N",
        "outputId": "ca7a2876-9885-4239-f4b4-2a51f4f2f3ef"
      },
      "execution_count": 11,
      "outputs": [
        {
          "output_type": "stream",
          "name": "stdout",
          "text": [
            "GPU: 0\n",
            "\n",
            "Predicted label : top1 tensor([4], device='cuda:0')\n",
            "Predicted label : top2 tensor([9], device='cuda:0')\n",
            "Predicted label : top3 tensor([7], device='cuda:0')\n"
          ]
        }
      ]
    },
    {
      "cell_type": "code",
      "source": [
        "# unit = 3\n",
        "!python train_mnist_mlp.py -g 0 -u 3"
      ],
      "metadata": {
        "colab": {
          "base_uri": "https://localhost:8080/"
        },
        "id": "_e0Xmabb-asA",
        "outputId": "a2db97a2-2e28-4a5a-e9f4-2e837b9d29cf"
      },
      "execution_count": 13,
      "outputs": [
        {
          "output_type": "stream",
          "name": "stdout",
          "text": [
            "GPU: 0\n",
            "# unit: 3\n",
            "# Minibatch-size: 100\n",
            "# epoch: 20\n",
            "\n",
            "[epoch 1] loss: 1240.601\n",
            "[epoch 2] loss: 1163.124\n",
            "[epoch 3] loss: 1128.316\n",
            "[epoch 4] loss: 1112.420\n",
            "[epoch 5] loss: 1095.435\n",
            "[epoch 6] loss: 1070.944\n",
            "[epoch 7] loss: 1051.769\n",
            "[epoch 8] loss: 1038.475\n",
            "[epoch 9] loss: 1026.823\n",
            "[epoch 10] loss: 1013.517\n",
            "[epoch 11] loss: 990.381\n",
            "[epoch 12] loss: 947.043\n",
            "[epoch 13] loss: 915.448\n",
            "[epoch 14] loss: 895.364\n",
            "[epoch 15] loss: 877.867\n",
            "[epoch 16] loss: 860.802\n",
            "[epoch 17] loss: 844.494\n",
            "[epoch 18] loss: 811.919\n",
            "[epoch 19] loss: 767.888\n",
            "[epoch 20] loss: 738.508\n",
            "Finished Training\n",
            "Accuracy = 47.96666666666667%\n"
          ]
        }
      ]
    },
    {
      "cell_type": "code",
      "source": [
        "!python train_mnist_mlp.py -g 0 -u 10000"
      ],
      "metadata": {
        "colab": {
          "base_uri": "https://localhost:8080/"
        },
        "id": "7gaTZU34AwwV",
        "outputId": "9028e2be-f4cd-49c7-83c2-898de04003bc"
      },
      "execution_count": 14,
      "outputs": [
        {
          "output_type": "stream",
          "name": "stdout",
          "text": [
            "GPU: 0\n",
            "# unit: 10000\n",
            "# Minibatch-size: 100\n",
            "# epoch: 20\n",
            "\n",
            "[epoch 1] loss: 652.717\n",
            "[epoch 2] loss: 243.584\n",
            "[epoch 3] loss: 189.570\n",
            "[epoch 4] loss: 166.541\n",
            "[epoch 5] loss: 152.271\n",
            "[epoch 6] loss: 141.509\n",
            "[epoch 7] loss: 132.599\n",
            "[epoch 8] loss: 125.040\n",
            "[epoch 9] loss: 118.427\n",
            "[epoch 10] loss: 112.406\n",
            "[epoch 11] loss: 107.062\n",
            "[epoch 12] loss: 101.942\n",
            "[epoch 13] loss: 97.203\n",
            "[epoch 14] loss: 92.826\n",
            "[epoch 15] loss: 88.837\n",
            "[epoch 16] loss: 84.989\n",
            "[epoch 17] loss: 81.492\n",
            "[epoch 18] loss: 78.267\n",
            "[epoch 19] loss: 75.141\n",
            "[epoch 20] loss: 72.195\n",
            "Finished Training\n",
            "Accuracy = 95.11666666666666%\n"
          ]
        }
      ]
    },
    {
      "cell_type": "code",
      "source": [
        "!python train_mnist_cnn.py -g 0"
      ],
      "metadata": {
        "colab": {
          "base_uri": "https://localhost:8080/"
        },
        "id": "C7PUFLUBHg_v",
        "outputId": "de441f67-976f-4e50-f2c7-7e6a3599c65e"
      },
      "execution_count": 16,
      "outputs": [
        {
          "output_type": "stream",
          "name": "stdout",
          "text": [
            "GPU: 0\n",
            "# Minibatch-size: 100\n",
            "# epoch: 20\n",
            "\n",
            "[epoch 1] loss: 783.688\n",
            "[epoch 2] loss: 218.276\n",
            "[epoch 3] loss: 183.764\n",
            "[epoch 4] loss: 162.324\n",
            "[epoch 5] loss: 145.101\n",
            "[epoch 6] loss: 128.853\n",
            "[epoch 7] loss: 115.788\n",
            "[epoch 8] loss: 104.649\n",
            "[epoch 9] loss: 95.930\n",
            "[epoch 10] loss: 88.187\n",
            "[epoch 11] loss: 82.415\n",
            "[epoch 12] loss: 77.220\n",
            "[epoch 13] loss: 72.604\n",
            "[epoch 14] loss: 69.195\n",
            "[epoch 15] loss: 65.762\n",
            "[epoch 16] loss: 63.460\n",
            "[epoch 17] loss: 60.490\n",
            "[epoch 18] loss: 58.584\n",
            "[epoch 19] loss: 56.401\n",
            "[epoch 20] loss: 54.792\n",
            "Finished Training\n",
            "Accuracy = 96.66666666666667%\n"
          ]
        }
      ]
    },
    {
      "cell_type": "code",
      "source": [
        "!python train_cifar10.py -g 0"
      ],
      "metadata": {
        "colab": {
          "base_uri": "https://localhost:8080/"
        },
        "id": "Gj4lMFt6LC26",
        "outputId": "f217e694-3fc9-42c3-ec31-8be9df1f2cd8"
      },
      "execution_count": 30,
      "outputs": [
        {
          "output_type": "stream",
          "name": "stdout",
          "text": [
            "GPU: 0\n",
            "# Minibatch-size: 100\n",
            "# epoch: 20\n",
            "\n",
            "[epoch 1] loss: 32.272\n",
            "[epoch 2] loss: 32.267\n",
            "[epoch 3] loss: 32.261\n",
            "[epoch 4] loss: 32.253\n",
            "[epoch 5] loss: 32.243\n",
            "[epoch 6] loss: 32.232\n",
            "[epoch 7] loss: 32.226\n",
            "[epoch 8] loss: 32.225\n",
            "[epoch 9] loss: 32.219\n",
            "[epoch 10] loss: 32.212\n",
            "[epoch 11] loss: 32.211\n",
            "[epoch 12] loss: 32.209\n",
            "[epoch 13] loss: 32.197\n",
            "[epoch 14] loss: 32.192\n",
            "[epoch 15] loss: 32.190\n",
            "[epoch 16] loss: 32.185\n",
            "[epoch 17] loss: 32.175\n",
            "[epoch 18] loss: 32.175\n",
            "[epoch 19] loss: 32.168\n",
            "[epoch 20] loss: 32.160\n",
            "Finished Training\n",
            "max accuracy when epoch = 7\n"
          ]
        }
      ]
    },
    {
      "cell_type": "code",
      "source": [
        "!python test_cifar10.py -g 0 -m ./result/model_7"
      ],
      "metadata": {
        "colab": {
          "base_uri": "https://localhost:8080/"
        },
        "id": "fKm-CAqrNiQe",
        "outputId": "6c545473-79fc-4bdf-9d83-85da3cebf7a4"
      },
      "execution_count": 31,
      "outputs": [
        {
          "output_type": "stream",
          "name": "stdout",
          "text": [
            "GPU: 0\n",
            "# Minibatch-size: 100\n",
            "\n",
            "Accuracy of airplane :  0 %\n",
            "Accuracy of automobile :  0 %\n",
            "Accuracy of  bird :  0 %\n",
            "Accuracy of   cat :  0 %\n",
            "Accuracy of  deer :  0 %\n",
            "Accuracy of   dog : 80 %\n",
            "Accuracy of  frog : 25 %\n",
            "Accuracy of horse :  0 %\n",
            "Accuracy of  ship :  0 %\n",
            "Accuracy of truck :  0 %\n",
            "Accuracy : 10.500 %\n"
          ]
        }
      ]
    },
    {
      "cell_type": "code",
      "source": [
        "!python train_mnist_mlp.py -g 0 --out ./mnist_mlp_result"
      ],
      "metadata": {
        "colab": {
          "base_uri": "https://localhost:8080/"
        },
        "id": "0uYX745UQInG",
        "outputId": "1ec329aa-ab16-4224-b99c-b81c9e7da5c7"
      },
      "execution_count": 34,
      "outputs": [
        {
          "output_type": "stream",
          "name": "stdout",
          "text": [
            "GPU: 0\n",
            "# unit: 1000\n",
            "# Minibatch-size: 100\n",
            "# epoch: 20\n",
            "\n",
            "[epoch 1] loss: 1038.175\n",
            "[epoch 2] loss: 411.691\n",
            "[epoch 3] loss: 254.676\n",
            "[epoch 4] loss: 211.114\n",
            "[epoch 5] loss: 189.951\n",
            "[epoch 6] loss: 176.288\n",
            "[epoch 7] loss: 166.077\n",
            "[epoch 8] loss: 157.325\n",
            "[epoch 9] loss: 149.816\n",
            "[epoch 10] loss: 143.034\n",
            "[epoch 11] loss: 136.875\n",
            "[epoch 12] loss: 131.151\n",
            "[epoch 13] loss: 125.706\n",
            "[epoch 14] loss: 120.743\n",
            "[epoch 15] loss: 116.027\n",
            "[epoch 16] loss: 111.664\n",
            "[epoch 17] loss: 107.411\n",
            "[epoch 18] loss: 103.489\n",
            "[epoch 19] loss: 99.860\n",
            "[epoch 20] loss: 96.411\n",
            "Finished Training\n",
            "Accuracy = 94.53333333333333%\n"
          ]
        }
      ]
    },
    {
      "cell_type": "code",
      "source": [
        "!zip -r mnist_mlp_result.zip mnist_mlp_result/"
      ],
      "metadata": {
        "colab": {
          "base_uri": "https://localhost:8080/"
        },
        "id": "QCpi6Vd6WD_Y",
        "outputId": "acb60eb6-0f8a-4b44-f94d-3112c6d8f8a8"
      },
      "execution_count": 37,
      "outputs": [
        {
          "output_type": "stream",
          "name": "stdout",
          "text": [
            "updating: mnist_mlp_result/ (stored 0%)\n",
            "  adding: mnist_mlp_result/model_final (deflated 8%)\n",
            "  adding: mnist_mlp_result/model_8 (deflated 8%)\n",
            "  adding: mnist_mlp_result/model_9 (deflated 8%)\n",
            "  adding: mnist_mlp_result/model_15 (deflated 8%)\n",
            "  adding: mnist_mlp_result/model_12 (deflated 8%)\n",
            "  adding: mnist_mlp_result/model_5 (deflated 8%)\n",
            "  adding: mnist_mlp_result/model_17 (deflated 8%)\n",
            "  adding: mnist_mlp_result/model_4 (deflated 8%)\n",
            "  adding: mnist_mlp_result/model_18 (deflated 8%)\n",
            "  adding: mnist_mlp_result/model_11 (deflated 8%)\n",
            "  adding: mnist_mlp_result/model_10 (deflated 8%)\n",
            "  adding: mnist_mlp_result/model_14 (deflated 8%)\n",
            "  adding: mnist_mlp_result/model_6 (deflated 8%)\n",
            "  adding: mnist_mlp_result/model_1 (deflated 8%)\n",
            "  adding: mnist_mlp_result/model_7 (deflated 8%)\n",
            "  adding: mnist_mlp_result/model_2 (deflated 8%)\n",
            "  adding: mnist_mlp_result/accuracy_mnist_mlp.png (deflated 8%)\n",
            "  adding: mnist_mlp_result/model_13 (deflated 8%)\n",
            "  adding: mnist_mlp_result/model_20 (deflated 8%)\n",
            "  adding: mnist_mlp_result/model_19 (deflated 8%)\n",
            "  adding: mnist_mlp_result/model_16 (deflated 8%)\n",
            "  adding: mnist_mlp_result/model_3 (deflated 8%)\n"
          ]
        }
      ]
    },
    {
      "cell_type": "markdown",
      "source": [],
      "metadata": {
        "id": "uQXD-w_UCJFD"
      }
    }
  ]
}